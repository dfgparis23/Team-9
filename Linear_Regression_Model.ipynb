{
 "cells": [
  {
   "cell_type": "code",
   "execution_count": 3,
   "id": "8f79c667",
   "metadata": {},
   "outputs": [
    {
     "name": "stdout",
     "output_type": "stream",
     "text": [
      "Collecting scikit-learn\n",
      "  Downloading scikit_learn-1.3.1-cp310-cp310-macosx_12_0_arm64.whl (9.5 MB)\n",
      "\u001b[2K     \u001b[90m━━━━━━━━━━━━━━━━━━━━━━━━━━━━━━━━━━━━━━━━\u001b[0m \u001b[32m9.5/9.5 MB\u001b[0m \u001b[31m6.6 MB/s\u001b[0m eta \u001b[36m0:00:00\u001b[0m00:01\u001b[0m00:01\u001b[0mm\n",
      "\u001b[?25hRequirement already satisfied: numpy<2.0,>=1.17.3 in /Users/hugo/miniconda3/lib/python3.10/site-packages (from scikit-learn) (1.26.0)\n",
      "Requirement already satisfied: scipy>=1.5.0 in /Users/hugo/miniconda3/lib/python3.10/site-packages (from scikit-learn) (1.11.3)\n",
      "Collecting joblib>=1.1.1\n",
      "  Downloading joblib-1.3.2-py3-none-any.whl (302 kB)\n",
      "\u001b[2K     \u001b[90m━━━━━━━━━━━━━━━━━━━━━━━━━━━━━━━━━━━━━━━\u001b[0m \u001b[32m302.2/302.2 kB\u001b[0m \u001b[31m4.8 MB/s\u001b[0m eta \u001b[36m0:00:00\u001b[0ma \u001b[36m0:00:01\u001b[0m\n",
      "\u001b[?25hCollecting threadpoolctl>=2.0.0\n",
      "  Downloading threadpoolctl-3.2.0-py3-none-any.whl (15 kB)\n",
      "Installing collected packages: threadpoolctl, joblib, scikit-learn\n",
      "Successfully installed joblib-1.3.2 scikit-learn-1.3.1 threadpoolctl-3.2.0\n"
     ]
    }
   ],
   "source": [
    "!pip install scikit-learn"
   ]
  },
  {
   "cell_type": "code",
   "execution_count": 6,
   "id": "fa3fc806",
   "metadata": {},
   "outputs": [],
   "source": [
    "import pandas as pd\n",
    "import matplotlib.pyplot as plt\n",
    "import seaborn as sns\n",
    "import numpy as np\n",
    "from scipy.stats import norm\n",
    "from sklearn.preprocessing import StandardScaler\n",
    "from scipy import stats\n",
    "import warnings\n",
    "warnings.filterwarnings('ignore')\n",
    "%matplotlib inline"
   ]
  },
  {
   "cell_type": "code",
   "execution_count": 4,
   "id": "3b0e6298",
   "metadata": {},
   "outputs": [
    {
     "name": "stdout",
     "output_type": "stream",
     "text": [
      "Requirement already satisfied: pandas in /Users/hugo/miniconda3/lib/python3.10/site-packages (2.1.1)\n",
      "Requirement already satisfied: tzdata>=2022.1 in /Users/hugo/miniconda3/lib/python3.10/site-packages (from pandas) (2023.3)\n",
      "Requirement already satisfied: pytz>=2020.1 in /Users/hugo/miniconda3/lib/python3.10/site-packages (from pandas) (2022.7)\n",
      "Requirement already satisfied: python-dateutil>=2.8.2 in /Users/hugo/miniconda3/lib/python3.10/site-packages (from pandas) (2.8.2)\n",
      "Requirement already satisfied: numpy>=1.22.4 in /Users/hugo/miniconda3/lib/python3.10/site-packages (from pandas) (1.26.0)\n",
      "Requirement already satisfied: six>=1.5 in /Users/hugo/miniconda3/lib/python3.10/site-packages (from python-dateutil>=2.8.2->pandas) (1.16.0)\n"
     ]
    }
   ],
   "source": [
    "!pip install pandas --upgrade"
   ]
  },
  {
   "cell_type": "code",
   "execution_count": 13,
   "id": "f9fd211f",
   "metadata": {},
   "outputs": [
    {
     "name": "stdout",
     "output_type": "stream",
     "text": [
      "Collecting sklearn\n",
      "  Downloading sklearn-0.0.post10.tar.gz (3.6 kB)\n",
      "  Preparing metadata (setup.py) ... \u001b[?25lerror\n",
      "  \u001b[1;31merror\u001b[0m: \u001b[1msubprocess-exited-with-error\u001b[0m\n",
      "  \n",
      "  \u001b[31m×\u001b[0m \u001b[32mpython setup.py egg_info\u001b[0m did not run successfully.\n",
      "  \u001b[31m│\u001b[0m exit code: \u001b[1;36m1\u001b[0m\n",
      "  \u001b[31m╰─>\u001b[0m \u001b[31m[18 lines of output]\u001b[0m\n",
      "  \u001b[31m   \u001b[0m The 'sklearn' PyPI package is deprecated, use 'scikit-learn'\n",
      "  \u001b[31m   \u001b[0m rather than 'sklearn' for pip commands.\n",
      "  \u001b[31m   \u001b[0m \n",
      "  \u001b[31m   \u001b[0m Here is how to fix this error in the main use cases:\n",
      "  \u001b[31m   \u001b[0m - use 'pip install scikit-learn' rather than 'pip install sklearn'\n",
      "  \u001b[31m   \u001b[0m - replace 'sklearn' by 'scikit-learn' in your pip requirements files\n",
      "  \u001b[31m   \u001b[0m   (requirements.txt, setup.py, setup.cfg, Pipfile, etc ...)\n",
      "  \u001b[31m   \u001b[0m - if the 'sklearn' package is used by one of your dependencies,\n",
      "  \u001b[31m   \u001b[0m   it would be great if you take some time to track which package uses\n",
      "  \u001b[31m   \u001b[0m   'sklearn' instead of 'scikit-learn' and report it to their issue tracker\n",
      "  \u001b[31m   \u001b[0m - as a last resort, set the environment variable\n",
      "  \u001b[31m   \u001b[0m   SKLEARN_ALLOW_DEPRECATED_SKLEARN_PACKAGE_INSTALL=True to avoid this error\n",
      "  \u001b[31m   \u001b[0m \n",
      "  \u001b[31m   \u001b[0m More information is available at\n",
      "  \u001b[31m   \u001b[0m https://github.com/scikit-learn/sklearn-pypi-package\n",
      "  \u001b[31m   \u001b[0m \n",
      "  \u001b[31m   \u001b[0m If the previous advice does not cover your use case, feel free to report it at\n",
      "  \u001b[31m   \u001b[0m https://github.com/scikit-learn/sklearn-pypi-package/issues/new\n",
      "  \u001b[31m   \u001b[0m \u001b[31m[end of output]\u001b[0m\n",
      "  \n",
      "  \u001b[1;35mnote\u001b[0m: This error originates from a subprocess, and is likely not a problem with pip.\n",
      "\u001b[1;31merror\u001b[0m: \u001b[1mmetadata-generation-failed\u001b[0m\n",
      "\n",
      "\u001b[31m×\u001b[0m Encountered error while generating package metadata.\n",
      "\u001b[31m╰─>\u001b[0m See above for output.\n",
      "\n",
      "\u001b[1;35mnote\u001b[0m: This is an issue with the package mentioned above, not pip.\n",
      "\u001b[1;36mhint\u001b[0m: See above for details.\n",
      "\u001b[?25h"
     ]
    }
   ],
   "source": [
    "!pip install sklearn"
   ]
  },
  {
   "cell_type": "code",
   "execution_count": 6,
   "id": "cafa6134",
   "metadata": {},
   "outputs": [
    {
     "name": "stdout",
     "output_type": "stream",
     "text": [
      "Collecting openpyxl\n",
      "  Downloading openpyxl-3.1.2-py2.py3-none-any.whl (249 kB)\n",
      "\u001b[2K     \u001b[90m━━━━━━━━━━━━━━━━━━━━━━━━━━━━━━━━━━━━━━━\u001b[0m \u001b[32m250.0/250.0 kB\u001b[0m \u001b[31m2.7 MB/s\u001b[0m eta \u001b[36m0:00:00\u001b[0ma \u001b[36m0:00:01\u001b[0m\n",
      "\u001b[?25hCollecting et-xmlfile\n",
      "  Downloading et_xmlfile-1.1.0-py3-none-any.whl (4.7 kB)\n",
      "Installing collected packages: et-xmlfile, openpyxl\n",
      "Successfully installed et-xmlfile-1.1.0 openpyxl-3.1.2\n"
     ]
    }
   ],
   "source": [
    "!pip install openpyxl --upgrade"
   ]
  },
  {
   "cell_type": "code",
   "execution_count": 7,
   "id": "3280f69a",
   "metadata": {},
   "outputs": [],
   "source": [
    "Business_account = pd.read_excel(\"/Users/hugo/Downloads/Business Account.xlsx\")\n",
    "Consumer_price_index = pd.read_excel(\"/Users/hugo/Downloads/consumer_price_index.xlsx\")\n",
    "Contacts = pd.read_excel(\"/Users/hugo/Downloads/Contacts.xlsx\")\n",
    "Data_dictionary = pd.read_excel(\"/Users/hugo/Downloads/Data dictionary.xlsx\")\n",
    "Invoice_and_opportunities = pd.read_excel(\"/Users/hugo/Downloads/Invoice and Opportunities.xlsx\")\n",
    "Non_stock_items = pd.read_excel(\"/Users/hugo/Downloads/Non-Stock Items.xlsx\")\n",
    "Items_and_opportunities = pd.read_excel(\"/Users/hugo/Downloads/Items and Opportunities.xlsx\")\n",
    "Opportunities = pd.read_excel(\"/Users/hugo/Downloads/Opportunities.xlsx\")"
   ]
  },
  {
   "cell_type": "code",
   "execution_count": 39,
   "id": "20311525",
   "metadata": {},
   "outputs": [
    {
     "data": {
      "text/plain": [
       "Index(['Business Account', 'Stage', 'Status', 'Estimated amount',\n",
       "       'Amount received', 'Class ID', 'Programme financé',\n",
       "       'Actual Close Date'],\n",
       "      dtype='object')"
      ]
     },
     "execution_count": 39,
     "metadata": {},
     "output_type": "execute_result"
    }
   ],
   "source": [
    "Opportunities.columns"
   ]
  },
  {
   "cell_type": "code",
   "execution_count": 52,
   "id": "db742817",
   "metadata": {},
   "outputs": [
    {
     "data": {
      "text/plain": [
       "(4379, 8)"
      ]
     },
     "execution_count": 52,
     "metadata": {},
     "output_type": "execute_result"
    }
   ],
   "source": [
    "\n",
    "Opportunities = Opportunities[['Business Account', 'Stage', 'Status',\n",
    "                                  'Estimated amount', 'Amount received',\n",
    "                                  'Class ID', 'Programme financé',\n",
    "                                 'Actual Close Date']]\n",
    "\n",
    "Opportunities.shape"
   ]
  },
  {
   "cell_type": "code",
   "execution_count": 53,
   "id": "bd53dc6d",
   "metadata": {},
   "outputs": [
    {
     "name": "stdout",
     "output_type": "stream",
     "text": [
      "Business Account        1\n",
      "Stage                   0\n",
      "Status                  0\n",
      "Estimated amount        0\n",
      "Amount received      1805\n",
      "Class ID                0\n",
      "Programme financé    1823\n",
      "Actual Close Date       0\n",
      "dtype: int64\n"
     ]
    }
   ],
   "source": [
    "# Count NaN values for each column\n",
    "nan_counts = Opportunities.isna().sum()\n",
    "\n",
    "# Display the number of NaN values for each column\n",
    "print(nan_counts)"
   ]
  },
  {
   "cell_type": "code",
   "execution_count": 54,
   "id": "3f2b9aa8",
   "metadata": {},
   "outputs": [],
   "source": [
    "Opportunities = Opportunities.dropna(subset=['Actual Close Date'])"
   ]
  },
  {
   "cell_type": "code",
   "execution_count": 55,
   "id": "525fbc1f",
   "metadata": {},
   "outputs": [
    {
     "data": {
      "text/plain": [
       "(4379, 8)"
      ]
     },
     "execution_count": 55,
     "metadata": {},
     "output_type": "execute_result"
    }
   ],
   "source": [
    "Opportunities.shape"
   ]
  },
  {
   "cell_type": "code",
   "execution_count": null,
   "id": "0485b80e",
   "metadata": {},
   "outputs": [],
   "source": []
  },
  {
   "cell_type": "code",
   "execution_count": 13,
   "id": "29663363",
   "metadata": {},
   "outputs": [
    {
     "data": {
      "text/plain": [
       "(4379, 8)"
      ]
     },
     "execution_count": 13,
     "metadata": {},
     "output_type": "execute_result"
    }
   ],
   "source": [
    "Opportunities.shape"
   ]
  },
  {
   "cell_type": "code",
   "execution_count": 56,
   "id": "43db6082",
   "metadata": {},
   "outputs": [
    {
     "data": {
      "text/plain": [
       "count    2.574000e+03\n",
       "mean     1.311397e+04\n",
       "std      5.282522e+04\n",
       "min      0.000000e+00\n",
       "25%      6.500000e+02\n",
       "50%      3.000000e+03\n",
       "75%      9.000000e+03\n",
       "max      1.400000e+06\n",
       "Name: Amount received, dtype: float64"
      ]
     },
     "execution_count": 56,
     "metadata": {},
     "output_type": "execute_result"
    }
   ],
   "source": [
    "#descriptive statistics summary\n",
    "Opportunities['Amount received'].describe()"
   ]
  },
  {
   "cell_type": "code",
   "execution_count": 90,
   "id": "0256f217",
   "metadata": {},
   "outputs": [
    {
     "data": {
      "image/png": "[encoded data removed]",
      "text/plain": [
       "<Figure size 500x500 with 1 Axes>"
      ]
     },
     "metadata": {},
     "output_type": "display_data"
    }
   ],
   "source": [
    "#histogram\n",
    "sns.displot(data=Opportunities, x='Amount received', bins=40, kde=True)\n",
    "plt.xlim(-100000, 1000000)  # Adjust the limits as needed\n",
    "plt.show()"
   ]
  },
  {
   "cell_type": "code",
   "execution_count": 91,
   "id": "20d559b8",
   "metadata": {},
   "outputs": [
    {
     "data": {
      "image/png": "[encoded data removed]",
      "text/plain": [
       "<Figure size 640x480 with 1 Axes>"
      ]
     },
     "metadata": {},
     "output_type": "display_data"
    }
   ],
   "source": [
    "import seaborn as sns\n",
    "import matplotlib.pyplot as plt\n",
    "\n",
    "# Boxplot for the 'Amount received' column\n",
    "sns.boxplot(data=Opportunities, x='Amount received')\n",
    "plt.xlim(0, 1000000)  # Adjust the limits as needed\n",
    "plt.title(\"Boxplot of Amount received\")\n",
    "plt.show()"
   ]
  },
  {
   "cell_type": "code",
   "execution_count": 86,
   "id": "8acac8c5",
   "metadata": {},
   "outputs": [
    {
     "data": {
      "image/png": "[encoded data removed]",
      "text/plain": [
       "<Figure size 640x480 with 1 Axes>"
      ]
     },
     "metadata": {},
     "output_type": "display_data"
    }
   ],
   "source": [
    "import numpy as np\n",
    "\n",
    "x = np.sort(Opportunities['Amount received'])\n",
    "y = np.arange(1, len(x)+1) / len(x)\n",
    "plt.plot(x, y, marker='.', linestyle='none')\n",
    "plt.xlabel('Amount received')\n",
    "plt.ylabel('ECDF')\n",
    "plt.xlim(0, 1000000)  # Adjust the limits as needed\n",
    "plt.show()"
   ]
  },
  {
   "cell_type": "code",
   "execution_count": 58,
   "id": "fbacf442",
   "metadata": {},
   "outputs": [
    {
     "name": "stdout",
     "output_type": "stream",
     "text": [
      "Skewness: 13.712109\n",
      "Kurtosis: 268.326501\n"
     ]
    }
   ],
   "source": [
    "#skewness and kurtosis\n",
    "print(\"Skewness: %f\" % Opportunities['Amount received'].skew())\n",
    "\n",
    "#In your case, a skewness value of 11.828819 suggests that the distribution is heavily skewed to the right, \n",
    "#indicating that there may be a long tail of high values or outliers on the right side of the distribution.\n",
    "\n",
    "print(\"Kurtosis: %f\" % Opportunities['Amount received'].kurt())\n",
    "\n",
    "# In your case, a kurtosis value of 194.889740 suggests that \n",
    "# the distribution has very heavy tails and a large number of extreme values or outliers.\n"
   ]
  },
  {
   "cell_type": "code",
   "execution_count": 59,
   "id": "3c3064d6",
   "metadata": {},
   "outputs": [
    {
     "data": {
      "image/png": "[encoded data removed]",
      "text/plain": [
       "<Figure size 640x480 with 1 Axes>"
      ]
     },
     "metadata": {},
     "output_type": "display_data"
    }
   ],
   "source": [
    "#scatter plot grlivarea/saleprice\n",
    "var = 'Estimated amount'\n",
    "data = pd.concat([Opportunities['Amount received'], Opportunities[var]], axis=1)\n",
    "data.plot.scatter(x=var, y='Amount received', xlim = (0, 1000000), ylim=(0,1000000));"
   ]
  },
  {
   "cell_type": "code",
   "execution_count": 60,
   "id": "6cdc94d2",
   "metadata": {},
   "outputs": [],
   "source": [
    "Opportunities_float = Opportunities[['Stage', 'Status',\n",
    "                                  'Estimated amount', 'Amount received',\n",
    "                                  'Class ID', 'Programme financé']]"
   ]
  },
  {
   "cell_type": "code",
   "execution_count": 62,
   "id": "b30afea5",
   "metadata": {},
   "outputs": [
    {
     "data": {
      "text/html": [
       "<div>\n",
       "<style scoped>\n",
       "    .dataframe tbody tr th:only-of-type {\n",
       "        vertical-align: middle;\n",
       "    }\n",
       "\n",
       "    .dataframe tbody tr th {\n",
       "        vertical-align: top;\n",
       "    }\n",
       "\n",
       "    .dataframe thead th {\n",
       "        text-align: right;\n",
       "    }\n",
       "</style>\n",
       "<table border=\"1\" class=\"dataframe\">\n",
       "  <thead>\n",
       "    <tr style=\"text-align: right;\">\n",
       "      <th></th>\n",
       "      <th>Stage</th>\n",
       "      <th>Status</th>\n",
       "      <th>Estimated amount</th>\n",
       "      <th>Amount received</th>\n",
       "      <th>Class ID</th>\n",
       "      <th>Programme financé</th>\n",
       "    </tr>\n",
       "  </thead>\n",
       "  <tbody>\n",
       "    <tr>\n",
       "      <th>146</th>\n",
       "      <td>Oral agreement</td>\n",
       "      <td>Won</td>\n",
       "      <td>650.0</td>\n",
       "      <td>650.00</td>\n",
       "      <td>CAMP TER</td>\n",
       "      <td>NaN</td>\n",
       "    </tr>\n",
       "    <tr>\n",
       "      <th>166</th>\n",
       "      <td>Oral agreement</td>\n",
       "      <td>Won</td>\n",
       "      <td>208.0</td>\n",
       "      <td>208.00</td>\n",
       "      <td>CAMP TER</td>\n",
       "      <td>NaN</td>\n",
       "    </tr>\n",
       "    <tr>\n",
       "      <th>167</th>\n",
       "      <td>Oral agreement</td>\n",
       "      <td>Won</td>\n",
       "      <td>56.0</td>\n",
       "      <td>56.00</td>\n",
       "      <td>CAMP TER</td>\n",
       "      <td>NaN</td>\n",
       "    </tr>\n",
       "    <tr>\n",
       "      <th>212</th>\n",
       "      <td>Won</td>\n",
       "      <td>Won</td>\n",
       "      <td>9000.0</td>\n",
       "      <td>9000.00</td>\n",
       "      <td>PPRIV EVNT</td>\n",
       "      <td>NaN</td>\n",
       "    </tr>\n",
       "    <tr>\n",
       "      <th>259</th>\n",
       "      <td>Won</td>\n",
       "      <td>Won</td>\n",
       "      <td>7620.0</td>\n",
       "      <td>7620.00</td>\n",
       "      <td>PPRIV MEC</td>\n",
       "      <td>Non fléché</td>\n",
       "    </tr>\n",
       "    <tr>\n",
       "      <th>...</th>\n",
       "      <td>...</td>\n",
       "      <td>...</td>\n",
       "      <td>...</td>\n",
       "      <td>...</td>\n",
       "      <td>...</td>\n",
       "      <td>...</td>\n",
       "    </tr>\n",
       "    <tr>\n",
       "      <th>5944</th>\n",
       "      <td>Won</td>\n",
       "      <td>Won</td>\n",
       "      <td>5000.0</td>\n",
       "      <td>5000.00</td>\n",
       "      <td>PPRIV MEC</td>\n",
       "      <td>Non fléché</td>\n",
       "    </tr>\n",
       "    <tr>\n",
       "      <th>5959</th>\n",
       "      <td>Won</td>\n",
       "      <td>Won</td>\n",
       "      <td>20000.0</td>\n",
       "      <td>20000.00</td>\n",
       "      <td>PPRIV MEC</td>\n",
       "      <td>L dans la Ville</td>\n",
       "    </tr>\n",
       "    <tr>\n",
       "      <th>5972</th>\n",
       "      <td>Won</td>\n",
       "      <td>Won</td>\n",
       "      <td>130000.0</td>\n",
       "      <td>65000.00</td>\n",
       "      <td>PPRIV MEC</td>\n",
       "      <td>NaN</td>\n",
       "    </tr>\n",
       "    <tr>\n",
       "      <th>5980</th>\n",
       "      <td>Won</td>\n",
       "      <td>Won</td>\n",
       "      <td>17533.0</td>\n",
       "      <td>3533.08</td>\n",
       "      <td>PPRIV MEC</td>\n",
       "      <td>Job dans la Ville</td>\n",
       "    </tr>\n",
       "    <tr>\n",
       "      <th>5982</th>\n",
       "      <td>Won</td>\n",
       "      <td>Won</td>\n",
       "      <td>7500.0</td>\n",
       "      <td>7500.00</td>\n",
       "      <td>PPRIV MEC</td>\n",
       "      <td>Job dans la Ville</td>\n",
       "    </tr>\n",
       "  </tbody>\n",
       "</table>\n",
       "<p>2574 rows × 6 columns</p>\n",
       "</div>"
      ],
      "text/plain": [
       "               Stage Status  Estimated amount  Amount received    Class ID  \\\n",
       "146   Oral agreement    Won             650.0           650.00    CAMP TER   \n",
       "166   Oral agreement    Won             208.0           208.00    CAMP TER   \n",
       "167   Oral agreement    Won              56.0            56.00    CAMP TER   \n",
       "212              Won    Won            9000.0          9000.00  PPRIV EVNT   \n",
       "259              Won    Won            7620.0          7620.00   PPRIV MEC   \n",
       "...              ...    ...               ...              ...         ...   \n",
       "5944             Won    Won            5000.0          5000.00   PPRIV MEC   \n",
       "5959             Won    Won           20000.0         20000.00   PPRIV MEC   \n",
       "5972             Won    Won          130000.0         65000.00   PPRIV MEC   \n",
       "5980             Won    Won           17533.0          3533.08   PPRIV MEC   \n",
       "5982             Won    Won            7500.0          7500.00   PPRIV MEC   \n",
       "\n",
       "      Programme financé  \n",
       "146                 NaN  \n",
       "166                 NaN  \n",
       "167                 NaN  \n",
       "212                 NaN  \n",
       "259          Non fléché  \n",
       "...                 ...  \n",
       "5944         Non fléché  \n",
       "5959    L dans la Ville  \n",
       "5972                NaN  \n",
       "5980  Job dans la Ville  \n",
       "5982  Job dans la Ville  \n",
       "\n",
       "[2574 rows x 6 columns]"
      ]
     },
     "execution_count": 62,
     "metadata": {},
     "output_type": "execute_result"
    }
   ],
   "source": [
    "Opportunities_float.dropna(subset=['Amount received'], inplace=True)\n",
    "Opportunities_float"
   ]
  },
  {
   "cell_type": "code",
   "execution_count": 63,
   "id": "63b5a8e9",
   "metadata": {},
   "outputs": [
    {
     "name": "stdout",
     "output_type": "stream",
     "text": [
      "Unique values in 'Column1': ['Won' 'Oral agreement' 'Lost' 'Advanced Prospect' 'Initial Prospect'\n",
      " 'Dossier posed']\n",
      "Unique values in 'Column1': ['Won' 'Lost']\n",
      "Unique values in 'Column1': ['CAMP TER' 'CAMP SAL' 'PPRIV EVNT' 'PPUB' 'PPRIV MEC' 'CAMP EVT'\n",
      " 'PPRIV TA' 'PPRIV DONN' 'PPRIV MCOM']\n",
      "Unique values in 'Column1': [nan 'Non fléché' 'Job dans la Ville' 'Séjours et Camps'\n",
      " 'Entrepreneurs dans la Ville' 'L dans la Ville' 'Sport'\n",
      " 'Sport, Job dans la Ville' 'L dans la Ville, Séjours et Camps'\n",
      " 'Réussite dans la Ville' 'Job dans la Ville, L dans la Ville'\n",
      " 'Job dans la Ville, Entrepreneurs dans la Ville'\n",
      " 'Non fléché, Réussite dans la Ville'\n",
      " 'Sport, Job dans la Ville, L dans la Ville'\n",
      " 'Sport, Job dans la Ville, Séjours et Camps'\n",
      " 'Sport, Job dans la Ville, Réussite dans la Ville'\n",
      " 'Job dans la Ville, L dans la Ville, Entrepreneurs dans la Ville'\n",
      " 'Non fléché, Sport' 'Sport, Entrepreneurs dans la Ville'\n",
      " 'Non fléché, Sport, Job dans la Ville, L dans la Ville'\n",
      " 'Réussite dans la Ville, Séjours et Camps'\n",
      " 'Non fléché, Job dans la Ville' 'Non fléché, Sport, Job dans la Ville']\n"
     ]
    },
    {
     "data": {
      "text/html": [
       "<div>\n",
       "<style scoped>\n",
       "    .dataframe tbody tr th:only-of-type {\n",
       "        vertical-align: middle;\n",
       "    }\n",
       "\n",
       "    .dataframe tbody tr th {\n",
       "        vertical-align: top;\n",
       "    }\n",
       "\n",
       "    .dataframe thead th {\n",
       "        text-align: right;\n",
       "    }\n",
       "</style>\n",
       "<table border=\"1\" class=\"dataframe\">\n",
       "  <thead>\n",
       "    <tr style=\"text-align: right;\">\n",
       "      <th></th>\n",
       "      <th>Stage</th>\n",
       "      <th>Status</th>\n",
       "      <th>Estimated amount</th>\n",
       "      <th>Amount received</th>\n",
       "      <th>Class ID</th>\n",
       "      <th>Programme financé</th>\n",
       "    </tr>\n",
       "  </thead>\n",
       "  <tbody>\n",
       "    <tr>\n",
       "      <th>146</th>\n",
       "      <td>1.0</td>\n",
       "      <td>1.0</td>\n",
       "      <td>650.0</td>\n",
       "      <td>650.00</td>\n",
       "      <td>1.0</td>\n",
       "      <td>0.0</td>\n",
       "    </tr>\n",
       "    <tr>\n",
       "      <th>166</th>\n",
       "      <td>1.0</td>\n",
       "      <td>1.0</td>\n",
       "      <td>208.0</td>\n",
       "      <td>208.00</td>\n",
       "      <td>1.0</td>\n",
       "      <td>0.0</td>\n",
       "    </tr>\n",
       "    <tr>\n",
       "      <th>167</th>\n",
       "      <td>1.0</td>\n",
       "      <td>1.0</td>\n",
       "      <td>56.0</td>\n",
       "      <td>56.00</td>\n",
       "      <td>1.0</td>\n",
       "      <td>0.0</td>\n",
       "    </tr>\n",
       "    <tr>\n",
       "      <th>212</th>\n",
       "      <td>2.0</td>\n",
       "      <td>1.0</td>\n",
       "      <td>9000.0</td>\n",
       "      <td>9000.00</td>\n",
       "      <td>2.0</td>\n",
       "      <td>0.0</td>\n",
       "    </tr>\n",
       "    <tr>\n",
       "      <th>259</th>\n",
       "      <td>2.0</td>\n",
       "      <td>1.0</td>\n",
       "      <td>7620.0</td>\n",
       "      <td>7620.00</td>\n",
       "      <td>3.0</td>\n",
       "      <td>1.0</td>\n",
       "    </tr>\n",
       "    <tr>\n",
       "      <th>...</th>\n",
       "      <td>...</td>\n",
       "      <td>...</td>\n",
       "      <td>...</td>\n",
       "      <td>...</td>\n",
       "      <td>...</td>\n",
       "      <td>...</td>\n",
       "    </tr>\n",
       "    <tr>\n",
       "      <th>5944</th>\n",
       "      <td>2.0</td>\n",
       "      <td>1.0</td>\n",
       "      <td>5000.0</td>\n",
       "      <td>5000.00</td>\n",
       "      <td>3.0</td>\n",
       "      <td>1.0</td>\n",
       "    </tr>\n",
       "    <tr>\n",
       "      <th>5959</th>\n",
       "      <td>2.0</td>\n",
       "      <td>1.0</td>\n",
       "      <td>20000.0</td>\n",
       "      <td>20000.00</td>\n",
       "      <td>3.0</td>\n",
       "      <td>5.0</td>\n",
       "    </tr>\n",
       "    <tr>\n",
       "      <th>5972</th>\n",
       "      <td>2.0</td>\n",
       "      <td>1.0</td>\n",
       "      <td>130000.0</td>\n",
       "      <td>65000.00</td>\n",
       "      <td>3.0</td>\n",
       "      <td>0.0</td>\n",
       "    </tr>\n",
       "    <tr>\n",
       "      <th>5980</th>\n",
       "      <td>2.0</td>\n",
       "      <td>1.0</td>\n",
       "      <td>17533.0</td>\n",
       "      <td>3533.08</td>\n",
       "      <td>3.0</td>\n",
       "      <td>2.0</td>\n",
       "    </tr>\n",
       "    <tr>\n",
       "      <th>5982</th>\n",
       "      <td>2.0</td>\n",
       "      <td>1.0</td>\n",
       "      <td>7500.0</td>\n",
       "      <td>7500.00</td>\n",
       "      <td>3.0</td>\n",
       "      <td>2.0</td>\n",
       "    </tr>\n",
       "  </tbody>\n",
       "</table>\n",
       "<p>2574 rows × 6 columns</p>\n",
       "</div>"
      ],
      "text/plain": [
       "      Stage  Status  Estimated amount  Amount received  Class ID  \\\n",
       "146     1.0     1.0             650.0           650.00       1.0   \n",
       "166     1.0     1.0             208.0           208.00       1.0   \n",
       "167     1.0     1.0              56.0            56.00       1.0   \n",
       "212     2.0     1.0            9000.0          9000.00       2.0   \n",
       "259     2.0     1.0            7620.0          7620.00       3.0   \n",
       "...     ...     ...               ...              ...       ...   \n",
       "5944    2.0     1.0            5000.0          5000.00       3.0   \n",
       "5959    2.0     1.0           20000.0         20000.00       3.0   \n",
       "5972    2.0     1.0          130000.0         65000.00       3.0   \n",
       "5980    2.0     1.0           17533.0          3533.08       3.0   \n",
       "5982    2.0     1.0            7500.0          7500.00       3.0   \n",
       "\n",
       "      Programme financé  \n",
       "146                 0.0  \n",
       "166                 0.0  \n",
       "167                 0.0  \n",
       "212                 0.0  \n",
       "259                 1.0  \n",
       "...                 ...  \n",
       "5944                1.0  \n",
       "5959                5.0  \n",
       "5972                0.0  \n",
       "5980                2.0  \n",
       "5982                2.0  \n",
       "\n",
       "[2574 rows x 6 columns]"
      ]
     },
     "execution_count": 63,
     "metadata": {},
     "output_type": "execute_result"
    }
   ],
   "source": [
    "from datetime import datetime\n",
    "\n",
    "unique_stage = Opportunities['Stage'].unique()\n",
    "print(\"Unique values in 'Column1':\", unique_stage)\n",
    "\n",
    "replacement_stage = {\n",
    "    'Oral agreement': 1.0,\n",
    "    'Won': 2.0,\n",
    "    'Advanced Prospect': 3.0,\n",
    "    'Initial Prospect': 4.0,\n",
    "    'Dossier posed': 5.0}\n",
    "\n",
    "Opportunities_float['Stage'] = Opportunities_float['Stage'].replace(replacement_stage)\n",
    "\n",
    "\n",
    "unique_status = Opportunities['Status'].unique()\n",
    "print(\"Unique values in 'Column1':\", unique_status)\n",
    "\n",
    "replacement_status = {\n",
    "    'Won': 1.0,\n",
    "    'Lost': 0.0}\n",
    "\n",
    "Opportunities_float['Status'] = Opportunities_float['Status'].replace(replacement_status)\n",
    "\n",
    "\n",
    "unique_classid = Opportunities['Class ID'].unique()\n",
    "print(\"Unique values in 'Column1':\", unique_classid)\n",
    "\n",
    "replacement_classid = {\n",
    "            'CAMP TER': 1.0,\n",
    "            'PPRIV EVNT': 2.0,\n",
    "            'PPRIV MEC': 3.0,\n",
    "            'CAMP EVT': 4.0,\n",
    "            'PPUB': 5.0,\n",
    "            'CAMP SAL': 6.0,\n",
    "             'PPRIV TA': 7.0}\n",
    "\n",
    "Opportunities_float['Class ID'] = Opportunities_float['Class ID'].replace(replacement_classid)\n",
    "\n",
    "\n",
    "unique_progfi = Opportunities['Programme financé'].unique()\n",
    "print(\"Unique values in 'Column1':\", unique_progfi)\n",
    "\n",
    "replacement_progfi = {\n",
    "    np.nan: 0.0,  # Replace NaN with 0.0\n",
    "    'Non fléché': 1.0,\n",
    "    'Job dans la Ville': 2.0,\n",
    "    'Entrepreneurs dans la Ville': 3.0,\n",
    "    'Séjours et Camps': 4.0,\n",
    "    'L dans la Ville': 5.0,\n",
    "    'Sport': 6.0,\n",
    "    'Sport, Job dans la Ville': 7.0,\n",
    "    'L dans la Ville, Séjours et Camps': 8.0,\n",
    "    'Réussite dans la Ville': 9.0,\n",
    "    'Job dans la Ville, L dans la Ville': 10.0,\n",
    "    'Job dans la Ville, Entrepreneurs dans la Ville': 11.0,\n",
    "    'Non fléché, Réussite dans la Ville': 12.0,\n",
    "    'Sport, Job dans la Ville, L dans la Ville': 13.0,\n",
    "    'Sport, Job dans la Ville, Séjours et Camps': 14.0,\n",
    "    'Sport, Job dans la Ville, Réussite dans la Ville': 15.0,\n",
    "    'Job dans la Ville, L dans la Ville, Entrepreneurs dans la Ville': 16.0,\n",
    "    'Non fléché, Sport': 17.0,\n",
    "    'Sport, Entrepreneurs dans la Ville': 18.0,\n",
    "    'Non fléché, Sport, Job dans la Ville, L dans la Ville': 19.0,\n",
    "    'Réussite dans la Ville, Séjours et Camps': 20.0,\n",
    "    'Non fléché, Job dans la Ville': 21.0,\n",
    "    'Non fléché, Sport, Job dans la Ville': 22.0\n",
    "}\n",
    "\n",
    "Opportunities_float['Programme financé'] = Opportunities_float['Programme financé'].replace(replacement_progfi)\n",
    "\n",
    "\n",
    "Opportunities_float"
   ]
  },
  {
   "cell_type": "code",
   "execution_count": 35,
   "id": "529bb059",
   "metadata": {},
   "outputs": [
    {
     "ename": "TypeError",
     "evalue": "dtype timedelta64[ns] cannot be converted to datetime64[ns]",
     "output_type": "error",
     "traceback": [
      "\u001b[0;31m---------------------------------------------------------------------------\u001b[0m",
      "\u001b[0;31mTypeError\u001b[0m                                 Traceback (most recent call last)",
      "Cell \u001b[0;32mIn[35], line 4\u001b[0m\n\u001b[1;32m      1\u001b[0m lst \u001b[38;5;241m=\u001b[39m []\n\u001b[1;32m      3\u001b[0m \u001b[38;5;28;01mfor\u001b[39;00m i \u001b[38;5;129;01min\u001b[39;00m \u001b[38;5;28mrange\u001b[39m(\u001b[38;5;28mlen\u001b[39m(Opportunities_float[\u001b[38;5;124m'\u001b[39m\u001b[38;5;124mActual Close Date\u001b[39m\u001b[38;5;124m'\u001b[39m])):\n\u001b[0;32m----> 4\u001b[0m     lst\u001b[38;5;241m.\u001b[39mappend(reference_date \u001b[38;5;241m-\u001b[39m \u001b[43mpd\u001b[49m\u001b[38;5;241;43m.\u001b[39;49m\u001b[43mto_datetime\u001b[49m\u001b[43m(\u001b[49m\u001b[43mOpportunities_float\u001b[49m\u001b[43m[\u001b[49m\u001b[38;5;124;43m'\u001b[39;49m\u001b[38;5;124;43mActual Close Date\u001b[39;49m\u001b[38;5;124;43m'\u001b[39;49m\u001b[43m]\u001b[49m\u001b[38;5;241;43m.\u001b[39;49m\u001b[43mvalues\u001b[49m\u001b[43m[\u001b[49m\u001b[43mi\u001b[49m\u001b[43m]\u001b[49m\u001b[43m)\u001b[49m\u001b[38;5;241m.\u001b[39mto_pydatetime()\u001b[38;5;241m.\u001b[39mdate())\n\u001b[1;32m      6\u001b[0m Opportunities_float[\u001b[38;5;124m'\u001b[39m\u001b[38;5;124mActual Close Date\u001b[39m\u001b[38;5;124m'\u001b[39m] \u001b[38;5;241m=\u001b[39m lst\n\u001b[1;32m      8\u001b[0m Opportunities_float\n",
      "File \u001b[0;32m~/miniconda3/lib/python3.10/site-packages/pandas/core/tools/datetimes.py:1146\u001b[0m, in \u001b[0;36mto_datetime\u001b[0;34m(arg, errors, dayfirst, yearfirst, utc, format, exact, unit, infer_datetime_format, origin, cache)\u001b[0m\n\u001b[1;32m   1144\u001b[0m         result \u001b[38;5;241m=\u001b[39m convert_listlike(argc, \u001b[38;5;28mformat\u001b[39m)\n\u001b[1;32m   1145\u001b[0m \u001b[38;5;28;01melse\u001b[39;00m:\n\u001b[0;32m-> 1146\u001b[0m     result \u001b[38;5;241m=\u001b[39m \u001b[43mconvert_listlike\u001b[49m\u001b[43m(\u001b[49m\u001b[43mnp\u001b[49m\u001b[38;5;241;43m.\u001b[39;49m\u001b[43marray\u001b[49m\u001b[43m(\u001b[49m\u001b[43m[\u001b[49m\u001b[43marg\u001b[49m\u001b[43m]\u001b[49m\u001b[43m)\u001b[49m\u001b[43m,\u001b[49m\u001b[43m \u001b[49m\u001b[38;5;28;43mformat\u001b[39;49m\u001b[43m)\u001b[49m[\u001b[38;5;241m0\u001b[39m]\n\u001b[1;32m   1147\u001b[0m     \u001b[38;5;28;01mif\u001b[39;00m \u001b[38;5;28misinstance\u001b[39m(arg, \u001b[38;5;28mbool\u001b[39m) \u001b[38;5;129;01mand\u001b[39;00m \u001b[38;5;28misinstance\u001b[39m(result, np\u001b[38;5;241m.\u001b[39mbool_):\n\u001b[1;32m   1148\u001b[0m         result \u001b[38;5;241m=\u001b[39m \u001b[38;5;28mbool\u001b[39m(result)  \u001b[38;5;66;03m# TODO: avoid this kludge.\u001b[39;00m\n",
      "File \u001b[0;32m~/miniconda3/lib/python3.10/site-packages/pandas/core/tools/datetimes.py:471\u001b[0m, in \u001b[0;36m_convert_listlike_datetimes\u001b[0;34m(arg, format, name, utc, unit, errors, dayfirst, yearfirst, exact)\u001b[0m\n\u001b[1;32m    468\u001b[0m \u001b[38;5;66;03m# warn if passing timedelta64, raise for PeriodDtype\u001b[39;00m\n\u001b[1;32m    469\u001b[0m \u001b[38;5;66;03m# NB: this must come after unit transformation\u001b[39;00m\n\u001b[1;32m    470\u001b[0m \u001b[38;5;28;01mtry\u001b[39;00m:\n\u001b[0;32m--> 471\u001b[0m     arg, _ \u001b[38;5;241m=\u001b[39m \u001b[43mmaybe_convert_dtype\u001b[49m\u001b[43m(\u001b[49m\u001b[43marg\u001b[49m\u001b[43m,\u001b[49m\u001b[43m \u001b[49m\u001b[43mcopy\u001b[49m\u001b[38;5;241;43m=\u001b[39;49m\u001b[38;5;28;43;01mFalse\u001b[39;49;00m\u001b[43m,\u001b[49m\u001b[43m \u001b[49m\u001b[43mtz\u001b[49m\u001b[38;5;241;43m=\u001b[39;49m\u001b[43mlibtimezones\u001b[49m\u001b[38;5;241;43m.\u001b[39;49m\u001b[43mmaybe_get_tz\u001b[49m\u001b[43m(\u001b[49m\u001b[43mtz\u001b[49m\u001b[43m)\u001b[49m\u001b[43m)\u001b[49m\n\u001b[1;32m    472\u001b[0m \u001b[38;5;28;01mexcept\u001b[39;00m \u001b[38;5;167;01mTypeError\u001b[39;00m:\n\u001b[1;32m    473\u001b[0m     \u001b[38;5;28;01mif\u001b[39;00m errors \u001b[38;5;241m==\u001b[39m \u001b[38;5;124m\"\u001b[39m\u001b[38;5;124mcoerce\u001b[39m\u001b[38;5;124m\"\u001b[39m:\n",
      "File \u001b[0;32m~/miniconda3/lib/python3.10/site-packages/pandas/core/arrays/datetimes.py:2412\u001b[0m, in \u001b[0;36mmaybe_convert_dtype\u001b[0;34m(data, copy, tz)\u001b[0m\n\u001b[1;32m   2408\u001b[0m     copy \u001b[38;5;241m=\u001b[39m \u001b[38;5;28;01mFalse\u001b[39;00m\n\u001b[1;32m   2410\u001b[0m \u001b[38;5;28;01melif\u001b[39;00m lib\u001b[38;5;241m.\u001b[39mis_np_dtype(data\u001b[38;5;241m.\u001b[39mdtype, \u001b[38;5;124m\"\u001b[39m\u001b[38;5;124mm\u001b[39m\u001b[38;5;124m\"\u001b[39m) \u001b[38;5;129;01mor\u001b[39;00m is_bool_dtype(data\u001b[38;5;241m.\u001b[39mdtype):\n\u001b[1;32m   2411\u001b[0m     \u001b[38;5;66;03m# GH#29794 enforcing deprecation introduced in GH#23539\u001b[39;00m\n\u001b[0;32m-> 2412\u001b[0m     \u001b[38;5;28;01mraise\u001b[39;00m \u001b[38;5;167;01mTypeError\u001b[39;00m(\u001b[38;5;124mf\u001b[39m\u001b[38;5;124m\"\u001b[39m\u001b[38;5;124mdtype \u001b[39m\u001b[38;5;132;01m{\u001b[39;00mdata\u001b[38;5;241m.\u001b[39mdtype\u001b[38;5;132;01m}\u001b[39;00m\u001b[38;5;124m cannot be converted to datetime64[ns]\u001b[39m\u001b[38;5;124m\"\u001b[39m)\n\u001b[1;32m   2413\u001b[0m \u001b[38;5;28;01melif\u001b[39;00m \u001b[38;5;28misinstance\u001b[39m(data\u001b[38;5;241m.\u001b[39mdtype, PeriodDtype):\n\u001b[1;32m   2414\u001b[0m     \u001b[38;5;66;03m# Note: without explicitly raising here, PeriodIndex\u001b[39;00m\n\u001b[1;32m   2415\u001b[0m     \u001b[38;5;66;03m#  test_setops.test_join_does_not_recur fails\u001b[39;00m\n\u001b[1;32m   2416\u001b[0m     \u001b[38;5;28;01mraise\u001b[39;00m \u001b[38;5;167;01mTypeError\u001b[39;00m(\n\u001b[1;32m   2417\u001b[0m         \u001b[38;5;124m\"\u001b[39m\u001b[38;5;124mPassing PeriodDtype data is invalid. Use `data.to_timestamp()` instead\u001b[39m\u001b[38;5;124m\"\u001b[39m\n\u001b[1;32m   2418\u001b[0m     )\n",
      "\u001b[0;31mTypeError\u001b[0m: dtype timedelta64[ns] cannot be converted to datetime64[ns]"
     ]
    }
   ],
   "source": [
    "lst = []\n",
    "\n",
    "for i in range(len(Opportunities_float['Actual Close Date'])):\n",
    "    lst.append(reference_date - pd.to_datetime(Opportunities_float['Actual Close Date'].values[i]).to_pydatetime().date())\n",
    "    \n",
    "Opportunities_float['Actual Close Date'] = lst\n",
    "\n",
    "Opportunities_float"
   ]
  },
  {
   "cell_type": "code",
   "execution_count": 82,
   "id": "1af02203",
   "metadata": {},
   "outputs": [
    {
     "data": {
      "text/html": [
       "<div>\n",
       "<style scoped>\n",
       "    .dataframe tbody tr th:only-of-type {\n",
       "        vertical-align: middle;\n",
       "    }\n",
       "\n",
       "    .dataframe tbody tr th {\n",
       "        vertical-align: top;\n",
       "    }\n",
       "\n",
       "    .dataframe thead th {\n",
       "        text-align: right;\n",
       "    }\n",
       "</style>\n",
       "<table border=\"1\" class=\"dataframe\">\n",
       "  <thead>\n",
       "    <tr style=\"text-align: right;\">\n",
       "      <th></th>\n",
       "      <th>Stage</th>\n",
       "      <th>Status</th>\n",
       "      <th>Estimated amount</th>\n",
       "      <th>Amount received</th>\n",
       "      <th>Class ID</th>\n",
       "      <th>Programme financé</th>\n",
       "    </tr>\n",
       "  </thead>\n",
       "  <tbody>\n",
       "    <tr>\n",
       "      <th>146</th>\n",
       "      <td>1.0</td>\n",
       "      <td>1.0</td>\n",
       "      <td>650.0</td>\n",
       "      <td>650.00</td>\n",
       "      <td>1.0</td>\n",
       "      <td>0.0</td>\n",
       "    </tr>\n",
       "    <tr>\n",
       "      <th>166</th>\n",
       "      <td>1.0</td>\n",
       "      <td>1.0</td>\n",
       "      <td>208.0</td>\n",
       "      <td>208.00</td>\n",
       "      <td>1.0</td>\n",
       "      <td>0.0</td>\n",
       "    </tr>\n",
       "    <tr>\n",
       "      <th>167</th>\n",
       "      <td>1.0</td>\n",
       "      <td>1.0</td>\n",
       "      <td>56.0</td>\n",
       "      <td>56.00</td>\n",
       "      <td>1.0</td>\n",
       "      <td>0.0</td>\n",
       "    </tr>\n",
       "    <tr>\n",
       "      <th>212</th>\n",
       "      <td>2.0</td>\n",
       "      <td>1.0</td>\n",
       "      <td>9000.0</td>\n",
       "      <td>9000.00</td>\n",
       "      <td>2.0</td>\n",
       "      <td>0.0</td>\n",
       "    </tr>\n",
       "    <tr>\n",
       "      <th>259</th>\n",
       "      <td>2.0</td>\n",
       "      <td>1.0</td>\n",
       "      <td>7620.0</td>\n",
       "      <td>7620.00</td>\n",
       "      <td>3.0</td>\n",
       "      <td>1.0</td>\n",
       "    </tr>\n",
       "    <tr>\n",
       "      <th>...</th>\n",
       "      <td>...</td>\n",
       "      <td>...</td>\n",
       "      <td>...</td>\n",
       "      <td>...</td>\n",
       "      <td>...</td>\n",
       "      <td>...</td>\n",
       "    </tr>\n",
       "    <tr>\n",
       "      <th>5944</th>\n",
       "      <td>2.0</td>\n",
       "      <td>1.0</td>\n",
       "      <td>5000.0</td>\n",
       "      <td>5000.00</td>\n",
       "      <td>3.0</td>\n",
       "      <td>1.0</td>\n",
       "    </tr>\n",
       "    <tr>\n",
       "      <th>5959</th>\n",
       "      <td>2.0</td>\n",
       "      <td>1.0</td>\n",
       "      <td>20000.0</td>\n",
       "      <td>20000.00</td>\n",
       "      <td>3.0</td>\n",
       "      <td>5.0</td>\n",
       "    </tr>\n",
       "    <tr>\n",
       "      <th>5972</th>\n",
       "      <td>2.0</td>\n",
       "      <td>1.0</td>\n",
       "      <td>130000.0</td>\n",
       "      <td>65000.00</td>\n",
       "      <td>3.0</td>\n",
       "      <td>0.0</td>\n",
       "    </tr>\n",
       "    <tr>\n",
       "      <th>5980</th>\n",
       "      <td>2.0</td>\n",
       "      <td>1.0</td>\n",
       "      <td>17533.0</td>\n",
       "      <td>3533.08</td>\n",
       "      <td>3.0</td>\n",
       "      <td>2.0</td>\n",
       "    </tr>\n",
       "    <tr>\n",
       "      <th>5982</th>\n",
       "      <td>2.0</td>\n",
       "      <td>1.0</td>\n",
       "      <td>7500.0</td>\n",
       "      <td>7500.00</td>\n",
       "      <td>3.0</td>\n",
       "      <td>2.0</td>\n",
       "    </tr>\n",
       "  </tbody>\n",
       "</table>\n",
       "<p>2574 rows × 6 columns</p>\n",
       "</div>"
      ],
      "text/plain": [
       "      Stage  Status  Estimated amount  Amount received  Class ID  \\\n",
       "146     1.0     1.0             650.0           650.00       1.0   \n",
       "166     1.0     1.0             208.0           208.00       1.0   \n",
       "167     1.0     1.0              56.0            56.00       1.0   \n",
       "212     2.0     1.0            9000.0          9000.00       2.0   \n",
       "259     2.0     1.0            7620.0          7620.00       3.0   \n",
       "...     ...     ...               ...              ...       ...   \n",
       "5944    2.0     1.0            5000.0          5000.00       3.0   \n",
       "5959    2.0     1.0           20000.0         20000.00       3.0   \n",
       "5972    2.0     1.0          130000.0         65000.00       3.0   \n",
       "5980    2.0     1.0           17533.0          3533.08       3.0   \n",
       "5982    2.0     1.0            7500.0          7500.00       3.0   \n",
       "\n",
       "      Programme financé  \n",
       "146                 0.0  \n",
       "166                 0.0  \n",
       "167                 0.0  \n",
       "212                 0.0  \n",
       "259                 1.0  \n",
       "...                 ...  \n",
       "5944                1.0  \n",
       "5959                5.0  \n",
       "5972                0.0  \n",
       "5980                2.0  \n",
       "5982                2.0  \n",
       "\n",
       "[2574 rows x 6 columns]"
      ]
     },
     "execution_count": 82,
     "metadata": {},
     "output_type": "execute_result"
    }
   ],
   "source": [
    "Opportunities_float"
   ]
  },
  {
   "cell_type": "code",
   "execution_count": 83,
   "id": "e5b8623e",
   "metadata": {},
   "outputs": [
    {
     "data": {
      "image/png": "[encoded data removed]",
      "text/plain": [
       "<Figure size 1000x800 with 2 Axes>"
      ]
     },
     "metadata": {},
     "output_type": "display_data"
    }
   ],
   "source": [
    "correlation_matrix = Opportunities_float.corr()\n",
    "\n",
    "# Create a heatmap using seaborn\n",
    "plt.figure(figsize=(10, 8))\n",
    "sns.heatmap(correlation_matrix, annot=True, cmap='coolwarm', vmin=-1, vmax=1, square=True, linewidths=0.5)\n",
    "plt.title(\"Correlation Matrix\")\n",
    "plt.show()"
   ]
  },
  {
   "cell_type": "code",
   "execution_count": 28,
   "id": "5e60bbb1",
   "metadata": {},
   "outputs": [
    {
     "ename": "AttributeError",
     "evalue": "'int' object has no attribute 'days'",
     "output_type": "error",
     "traceback": [
      "\u001b[0;31m---------------------------------------------------------------------------\u001b[0m",
      "\u001b[0;31mAttributeError\u001b[0m                            Traceback (most recent call last)",
      "Cell \u001b[0;32mIn[28], line 1\u001b[0m\n\u001b[0;32m----> 1\u001b[0m Opportunities_float[\u001b[38;5;124m'\u001b[39m\u001b[38;5;124mActual Close Date\u001b[39m\u001b[38;5;124m'\u001b[39m] \u001b[38;5;241m=\u001b[39m \u001b[43mOpportunities_float\u001b[49m\u001b[43m[\u001b[49m\u001b[38;5;124;43m'\u001b[39;49m\u001b[38;5;124;43mActual Close Date\u001b[39;49m\u001b[38;5;124;43m'\u001b[39;49m\u001b[43m]\u001b[49m\u001b[38;5;241;43m.\u001b[39;49m\u001b[43mapply\u001b[49m\u001b[43m(\u001b[49m\u001b[38;5;28;43;01mlambda\u001b[39;49;00m\u001b[43m \u001b[49m\u001b[43mx\u001b[49m\u001b[43m:\u001b[49m\u001b[43m \u001b[49m\u001b[43mx\u001b[49m\u001b[38;5;241;43m.\u001b[39;49m\u001b[43mdays\u001b[49m\u001b[43m)\u001b[49m\n\u001b[1;32m      2\u001b[0m Opportunities_float\n",
      "File \u001b[0;32m~/miniconda3/lib/python3.10/site-packages/pandas/core/series.py:4760\u001b[0m, in \u001b[0;36mSeries.apply\u001b[0;34m(self, func, convert_dtype, args, by_row, **kwargs)\u001b[0m\n\u001b[1;32m   4625\u001b[0m \u001b[38;5;28;01mdef\u001b[39;00m \u001b[38;5;21mapply\u001b[39m(\n\u001b[1;32m   4626\u001b[0m     \u001b[38;5;28mself\u001b[39m,\n\u001b[1;32m   4627\u001b[0m     func: AggFuncType,\n\u001b[0;32m   (...)\u001b[0m\n\u001b[1;32m   4632\u001b[0m     \u001b[38;5;241m*\u001b[39m\u001b[38;5;241m*\u001b[39mkwargs,\n\u001b[1;32m   4633\u001b[0m ) \u001b[38;5;241m-\u001b[39m\u001b[38;5;241m>\u001b[39m DataFrame \u001b[38;5;241m|\u001b[39m Series:\n\u001b[1;32m   4634\u001b[0m     \u001b[38;5;124;03m\"\"\"\u001b[39;00m\n\u001b[1;32m   4635\u001b[0m \u001b[38;5;124;03m    Invoke function on values of Series.\u001b[39;00m\n\u001b[1;32m   4636\u001b[0m \n\u001b[0;32m   (...)\u001b[0m\n\u001b[1;32m   4751\u001b[0m \u001b[38;5;124;03m    dtype: float64\u001b[39;00m\n\u001b[1;32m   4752\u001b[0m \u001b[38;5;124;03m    \"\"\"\u001b[39;00m\n\u001b[1;32m   4753\u001b[0m     \u001b[38;5;28;01mreturn\u001b[39;00m \u001b[43mSeriesApply\u001b[49m\u001b[43m(\u001b[49m\n\u001b[1;32m   4754\u001b[0m \u001b[43m        \u001b[49m\u001b[38;5;28;43mself\u001b[39;49m\u001b[43m,\u001b[49m\n\u001b[1;32m   4755\u001b[0m \u001b[43m        \u001b[49m\u001b[43mfunc\u001b[49m\u001b[43m,\u001b[49m\n\u001b[1;32m   4756\u001b[0m \u001b[43m        \u001b[49m\u001b[43mconvert_dtype\u001b[49m\u001b[38;5;241;43m=\u001b[39;49m\u001b[43mconvert_dtype\u001b[49m\u001b[43m,\u001b[49m\n\u001b[1;32m   4757\u001b[0m \u001b[43m        \u001b[49m\u001b[43mby_row\u001b[49m\u001b[38;5;241;43m=\u001b[39;49m\u001b[43mby_row\u001b[49m\u001b[43m,\u001b[49m\n\u001b[1;32m   4758\u001b[0m \u001b[43m        \u001b[49m\u001b[43margs\u001b[49m\u001b[38;5;241;43m=\u001b[39;49m\u001b[43margs\u001b[49m\u001b[43m,\u001b[49m\n\u001b[1;32m   4759\u001b[0m \u001b[43m        \u001b[49m\u001b[43mkwargs\u001b[49m\u001b[38;5;241;43m=\u001b[39;49m\u001b[43mkwargs\u001b[49m\u001b[43m,\u001b[49m\n\u001b[0;32m-> 4760\u001b[0m \u001b[43m    \u001b[49m\u001b[43m)\u001b[49m\u001b[38;5;241;43m.\u001b[39;49m\u001b[43mapply\u001b[49m\u001b[43m(\u001b[49m\u001b[43m)\u001b[49m\n",
      "File \u001b[0;32m~/miniconda3/lib/python3.10/site-packages/pandas/core/apply.py:1207\u001b[0m, in \u001b[0;36mSeriesApply.apply\u001b[0;34m(self)\u001b[0m\n\u001b[1;32m   1204\u001b[0m     \u001b[38;5;28;01mreturn\u001b[39;00m \u001b[38;5;28mself\u001b[39m\u001b[38;5;241m.\u001b[39mapply_compat()\n\u001b[1;32m   1206\u001b[0m \u001b[38;5;66;03m# self.func is Callable\u001b[39;00m\n\u001b[0;32m-> 1207\u001b[0m \u001b[38;5;28;01mreturn\u001b[39;00m \u001b[38;5;28;43mself\u001b[39;49m\u001b[38;5;241;43m.\u001b[39;49m\u001b[43mapply_standard\u001b[49m\u001b[43m(\u001b[49m\u001b[43m)\u001b[49m\n",
      "File \u001b[0;32m~/miniconda3/lib/python3.10/site-packages/pandas/core/apply.py:1287\u001b[0m, in \u001b[0;36mSeriesApply.apply_standard\u001b[0;34m(self)\u001b[0m\n\u001b[1;32m   1281\u001b[0m \u001b[38;5;66;03m# row-wise access\u001b[39;00m\n\u001b[1;32m   1282\u001b[0m \u001b[38;5;66;03m# apply doesn't have a `na_action` keyword and for backward compat reasons\u001b[39;00m\n\u001b[1;32m   1283\u001b[0m \u001b[38;5;66;03m# we need to give `na_action=\"ignore\"` for categorical data.\u001b[39;00m\n\u001b[1;32m   1284\u001b[0m \u001b[38;5;66;03m# TODO: remove the `na_action=\"ignore\"` when that default has been changed in\u001b[39;00m\n\u001b[1;32m   1285\u001b[0m \u001b[38;5;66;03m#  Categorical (GH51645).\u001b[39;00m\n\u001b[1;32m   1286\u001b[0m action \u001b[38;5;241m=\u001b[39m \u001b[38;5;124m\"\u001b[39m\u001b[38;5;124mignore\u001b[39m\u001b[38;5;124m\"\u001b[39m \u001b[38;5;28;01mif\u001b[39;00m \u001b[38;5;28misinstance\u001b[39m(obj\u001b[38;5;241m.\u001b[39mdtype, CategoricalDtype) \u001b[38;5;28;01melse\u001b[39;00m \u001b[38;5;28;01mNone\u001b[39;00m\n\u001b[0;32m-> 1287\u001b[0m mapped \u001b[38;5;241m=\u001b[39m \u001b[43mobj\u001b[49m\u001b[38;5;241;43m.\u001b[39;49m\u001b[43m_map_values\u001b[49m\u001b[43m(\u001b[49m\n\u001b[1;32m   1288\u001b[0m \u001b[43m    \u001b[49m\u001b[43mmapper\u001b[49m\u001b[38;5;241;43m=\u001b[39;49m\u001b[43mcurried\u001b[49m\u001b[43m,\u001b[49m\u001b[43m \u001b[49m\u001b[43mna_action\u001b[49m\u001b[38;5;241;43m=\u001b[39;49m\u001b[43maction\u001b[49m\u001b[43m,\u001b[49m\u001b[43m \u001b[49m\u001b[43mconvert\u001b[49m\u001b[38;5;241;43m=\u001b[39;49m\u001b[38;5;28;43mself\u001b[39;49m\u001b[38;5;241;43m.\u001b[39;49m\u001b[43mconvert_dtype\u001b[49m\n\u001b[1;32m   1289\u001b[0m \u001b[43m\u001b[49m\u001b[43m)\u001b[49m\n\u001b[1;32m   1291\u001b[0m \u001b[38;5;28;01mif\u001b[39;00m \u001b[38;5;28mlen\u001b[39m(mapped) \u001b[38;5;129;01mand\u001b[39;00m \u001b[38;5;28misinstance\u001b[39m(mapped[\u001b[38;5;241m0\u001b[39m], ABCSeries):\n\u001b[1;32m   1292\u001b[0m     \u001b[38;5;66;03m# GH#43986 Need to do list(mapped) in order to get treated as nested\u001b[39;00m\n\u001b[1;32m   1293\u001b[0m     \u001b[38;5;66;03m#  See also GH#25959 regarding EA support\u001b[39;00m\n\u001b[1;32m   1294\u001b[0m     \u001b[38;5;28;01mreturn\u001b[39;00m obj\u001b[38;5;241m.\u001b[39m_constructor_expanddim(\u001b[38;5;28mlist\u001b[39m(mapped), index\u001b[38;5;241m=\u001b[39mobj\u001b[38;5;241m.\u001b[39mindex)\n",
      "File \u001b[0;32m~/miniconda3/lib/python3.10/site-packages/pandas/core/base.py:921\u001b[0m, in \u001b[0;36mIndexOpsMixin._map_values\u001b[0;34m(self, mapper, na_action, convert)\u001b[0m\n\u001b[1;32m    918\u001b[0m \u001b[38;5;28;01mif\u001b[39;00m \u001b[38;5;28misinstance\u001b[39m(arr, ExtensionArray):\n\u001b[1;32m    919\u001b[0m     \u001b[38;5;28;01mreturn\u001b[39;00m arr\u001b[38;5;241m.\u001b[39mmap(mapper, na_action\u001b[38;5;241m=\u001b[39mna_action)\n\u001b[0;32m--> 921\u001b[0m \u001b[38;5;28;01mreturn\u001b[39;00m \u001b[43malgorithms\u001b[49m\u001b[38;5;241;43m.\u001b[39;49m\u001b[43mmap_array\u001b[49m\u001b[43m(\u001b[49m\u001b[43marr\u001b[49m\u001b[43m,\u001b[49m\u001b[43m \u001b[49m\u001b[43mmapper\u001b[49m\u001b[43m,\u001b[49m\u001b[43m \u001b[49m\u001b[43mna_action\u001b[49m\u001b[38;5;241;43m=\u001b[39;49m\u001b[43mna_action\u001b[49m\u001b[43m,\u001b[49m\u001b[43m \u001b[49m\u001b[43mconvert\u001b[49m\u001b[38;5;241;43m=\u001b[39;49m\u001b[43mconvert\u001b[49m\u001b[43m)\u001b[49m\n",
      "File \u001b[0;32m~/miniconda3/lib/python3.10/site-packages/pandas/core/algorithms.py:1814\u001b[0m, in \u001b[0;36mmap_array\u001b[0;34m(arr, mapper, na_action, convert)\u001b[0m\n\u001b[1;32m   1812\u001b[0m values \u001b[38;5;241m=\u001b[39m arr\u001b[38;5;241m.\u001b[39mastype(\u001b[38;5;28mobject\u001b[39m, copy\u001b[38;5;241m=\u001b[39m\u001b[38;5;28;01mFalse\u001b[39;00m)\n\u001b[1;32m   1813\u001b[0m \u001b[38;5;28;01mif\u001b[39;00m na_action \u001b[38;5;129;01mis\u001b[39;00m \u001b[38;5;28;01mNone\u001b[39;00m:\n\u001b[0;32m-> 1814\u001b[0m     \u001b[38;5;28;01mreturn\u001b[39;00m \u001b[43mlib\u001b[49m\u001b[38;5;241;43m.\u001b[39;49m\u001b[43mmap_infer\u001b[49m\u001b[43m(\u001b[49m\u001b[43mvalues\u001b[49m\u001b[43m,\u001b[49m\u001b[43m \u001b[49m\u001b[43mmapper\u001b[49m\u001b[43m,\u001b[49m\u001b[43m \u001b[49m\u001b[43mconvert\u001b[49m\u001b[38;5;241;43m=\u001b[39;49m\u001b[43mconvert\u001b[49m\u001b[43m)\u001b[49m\n\u001b[1;32m   1815\u001b[0m \u001b[38;5;28;01melse\u001b[39;00m:\n\u001b[1;32m   1816\u001b[0m     \u001b[38;5;28;01mreturn\u001b[39;00m lib\u001b[38;5;241m.\u001b[39mmap_infer_mask(\n\u001b[1;32m   1817\u001b[0m         values, mapper, mask\u001b[38;5;241m=\u001b[39misna(values)\u001b[38;5;241m.\u001b[39mview(np\u001b[38;5;241m.\u001b[39muint8), convert\u001b[38;5;241m=\u001b[39mconvert\n\u001b[1;32m   1818\u001b[0m     )\n",
      "File \u001b[0;32mlib.pyx:2917\u001b[0m, in \u001b[0;36mpandas._libs.lib.map_infer\u001b[0;34m()\u001b[0m\n",
      "Cell \u001b[0;32mIn[28], line 1\u001b[0m, in \u001b[0;36m<lambda>\u001b[0;34m(x)\u001b[0m\n\u001b[0;32m----> 1\u001b[0m Opportunities_float[\u001b[38;5;124m'\u001b[39m\u001b[38;5;124mActual Close Date\u001b[39m\u001b[38;5;124m'\u001b[39m] \u001b[38;5;241m=\u001b[39m Opportunities_float[\u001b[38;5;124m'\u001b[39m\u001b[38;5;124mActual Close Date\u001b[39m\u001b[38;5;124m'\u001b[39m]\u001b[38;5;241m.\u001b[39mapply(\u001b[38;5;28;01mlambda\u001b[39;00m x: \u001b[43mx\u001b[49m\u001b[38;5;241;43m.\u001b[39;49m\u001b[43mdays\u001b[49m)\n\u001b[1;32m      2\u001b[0m Opportunities_float\n",
      "\u001b[0;31mAttributeError\u001b[0m: 'int' object has no attribute 'days'"
     ]
    }
   ],
   "source": [
    "Opportunities_float['Actual Close Date'] = Opportunities_float['Actual Close Date'].apply(lambda x: x.days)"
   ]
  },
  {
   "cell_type": "code",
   "execution_count": 29,
   "id": "51fc1faf",
   "metadata": {},
   "outputs": [
    {
     "data": {
      "text/html": [
       "<div>\n",
       "<style scoped>\n",
       "    .dataframe tbody tr th:only-of-type {\n",
       "        vertical-align: middle;\n",
       "    }\n",
       "\n",
       "    .dataframe tbody tr th {\n",
       "        vertical-align: top;\n",
       "    }\n",
       "\n",
       "    .dataframe thead th {\n",
       "        text-align: right;\n",
       "    }\n",
       "</style>\n",
       "<table border=\"1\" class=\"dataframe\">\n",
       "  <thead>\n",
       "    <tr style=\"text-align: right;\">\n",
       "      <th></th>\n",
       "      <th>Stage</th>\n",
       "      <th>Status</th>\n",
       "      <th>Estimated amount</th>\n",
       "      <th>Amount received</th>\n",
       "      <th>Class ID</th>\n",
       "      <th>Programme financé</th>\n",
       "      <th>Actual Close Date</th>\n",
       "    </tr>\n",
       "  </thead>\n",
       "  <tbody>\n",
       "    <tr>\n",
       "      <th>22</th>\n",
       "      <td>2.0</td>\n",
       "      <td>1.0</td>\n",
       "      <td>150.0</td>\n",
       "      <td>NaN</td>\n",
       "      <td>1.0</td>\n",
       "      <td>0.0</td>\n",
       "      <td>9</td>\n",
       "    </tr>\n",
       "    <tr>\n",
       "      <th>49</th>\n",
       "      <td>2.0</td>\n",
       "      <td>1.0</td>\n",
       "      <td>756.0</td>\n",
       "      <td>NaN</td>\n",
       "      <td>6.0</td>\n",
       "      <td>0.0</td>\n",
       "      <td>10</td>\n",
       "    </tr>\n",
       "    <tr>\n",
       "      <th>106</th>\n",
       "      <td>2.0</td>\n",
       "      <td>1.0</td>\n",
       "      <td>455.0</td>\n",
       "      <td>NaN</td>\n",
       "      <td>6.0</td>\n",
       "      <td>0.0</td>\n",
       "      <td>11</td>\n",
       "    </tr>\n",
       "    <tr>\n",
       "      <th>146</th>\n",
       "      <td>1.0</td>\n",
       "      <td>1.0</td>\n",
       "      <td>650.0</td>\n",
       "      <td>650.0</td>\n",
       "      <td>1.0</td>\n",
       "      <td>0.0</td>\n",
       "      <td>9</td>\n",
       "    </tr>\n",
       "    <tr>\n",
       "      <th>166</th>\n",
       "      <td>1.0</td>\n",
       "      <td>1.0</td>\n",
       "      <td>208.0</td>\n",
       "      <td>208.0</td>\n",
       "      <td>1.0</td>\n",
       "      <td>0.0</td>\n",
       "      <td>9</td>\n",
       "    </tr>\n",
       "    <tr>\n",
       "      <th>...</th>\n",
       "      <td>...</td>\n",
       "      <td>...</td>\n",
       "      <td>...</td>\n",
       "      <td>...</td>\n",
       "      <td>...</td>\n",
       "      <td>...</td>\n",
       "      <td>...</td>\n",
       "    </tr>\n",
       "    <tr>\n",
       "      <th>5981</th>\n",
       "      <td>2.0</td>\n",
       "      <td>1.0</td>\n",
       "      <td>1059.0</td>\n",
       "      <td>NaN</td>\n",
       "      <td>3.0</td>\n",
       "      <td>1.0</td>\n",
       "      <td>310</td>\n",
       "    </tr>\n",
       "    <tr>\n",
       "      <th>5982</th>\n",
       "      <td>2.0</td>\n",
       "      <td>1.0</td>\n",
       "      <td>7500.0</td>\n",
       "      <td>7500.0</td>\n",
       "      <td>3.0</td>\n",
       "      <td>2.0</td>\n",
       "      <td>702</td>\n",
       "    </tr>\n",
       "    <tr>\n",
       "      <th>5983</th>\n",
       "      <td>2.0</td>\n",
       "      <td>1.0</td>\n",
       "      <td>35000.0</td>\n",
       "      <td>NaN</td>\n",
       "      <td>3.0</td>\n",
       "      <td>2.0</td>\n",
       "      <td>945</td>\n",
       "    </tr>\n",
       "    <tr>\n",
       "      <th>5984</th>\n",
       "      <td>2.0</td>\n",
       "      <td>1.0</td>\n",
       "      <td>20000.0</td>\n",
       "      <td>NaN</td>\n",
       "      <td>3.0</td>\n",
       "      <td>4.0</td>\n",
       "      <td>786</td>\n",
       "    </tr>\n",
       "    <tr>\n",
       "      <th>5985</th>\n",
       "      <td>2.0</td>\n",
       "      <td>1.0</td>\n",
       "      <td>10000.0</td>\n",
       "      <td>NaN</td>\n",
       "      <td>3.0</td>\n",
       "      <td>9.0</td>\n",
       "      <td>945</td>\n",
       "    </tr>\n",
       "  </tbody>\n",
       "</table>\n",
       "<p>4379 rows × 7 columns</p>\n",
       "</div>"
      ],
      "text/plain": [
       "     Stage  Status  Estimated amount  Amount received Class ID  \\\n",
       "22     2.0     1.0             150.0              NaN      1.0   \n",
       "49     2.0     1.0             756.0              NaN      6.0   \n",
       "106    2.0     1.0             455.0              NaN      6.0   \n",
       "146    1.0     1.0             650.0            650.0      1.0   \n",
       "166    1.0     1.0             208.0            208.0      1.0   \n",
       "...    ...     ...               ...              ...      ...   \n",
       "5981   2.0     1.0            1059.0              NaN      3.0   \n",
       "5982   2.0     1.0            7500.0           7500.0      3.0   \n",
       "5983   2.0     1.0           35000.0              NaN      3.0   \n",
       "5984   2.0     1.0           20000.0              NaN      3.0   \n",
       "5985   2.0     1.0           10000.0              NaN      3.0   \n",
       "\n",
       "     Programme financé  Actual Close Date  \n",
       "22                 0.0                  9  \n",
       "49                 0.0                 10  \n",
       "106                0.0                 11  \n",
       "146                0.0                  9  \n",
       "166                0.0                  9  \n",
       "...                ...                ...  \n",
       "5981               1.0                310  \n",
       "5982               2.0                702  \n",
       "5983               2.0                945  \n",
       "5984               4.0                786  \n",
       "5985               9.0                945  \n",
       "\n",
       "[4379 rows x 7 columns]"
      ]
     },
     "execution_count": 29,
     "metadata": {},
     "output_type": "execute_result"
    }
   ],
   "source": [
    "Opportunities_float"
   ]
  },
  {
   "cell_type": "code",
   "execution_count": 64,
   "id": "9a64a37c",
   "metadata": {},
   "outputs": [],
   "source": [
    "import pandas as pd\n",
    "from sklearn.model_selection import train_test_split\n",
    "from sklearn.linear_model import LinearRegression\n",
    "from sklearn.metrics import mean_squared_error, r2_score"
   ]
  },
  {
   "cell_type": "code",
   "execution_count": 65,
   "id": "ff501579",
   "metadata": {},
   "outputs": [
    {
     "data": {
      "text/html": [
       "<div>\n",
       "<style scoped>\n",
       "    .dataframe tbody tr th:only-of-type {\n",
       "        vertical-align: middle;\n",
       "    }\n",
       "\n",
       "    .dataframe tbody tr th {\n",
       "        vertical-align: top;\n",
       "    }\n",
       "\n",
       "    .dataframe thead th {\n",
       "        text-align: right;\n",
       "    }\n",
       "</style>\n",
       "<table border=\"1\" class=\"dataframe\">\n",
       "  <thead>\n",
       "    <tr style=\"text-align: right;\">\n",
       "      <th></th>\n",
       "      <th>Stage</th>\n",
       "      <th>Status</th>\n",
       "      <th>Estimated amount</th>\n",
       "      <th>Amount received</th>\n",
       "      <th>Class ID</th>\n",
       "      <th>Programme financé</th>\n",
       "    </tr>\n",
       "  </thead>\n",
       "  <tbody>\n",
       "    <tr>\n",
       "      <th>146</th>\n",
       "      <td>1.0</td>\n",
       "      <td>1.0</td>\n",
       "      <td>650.0</td>\n",
       "      <td>650.00</td>\n",
       "      <td>1.0</td>\n",
       "      <td>0.0</td>\n",
       "    </tr>\n",
       "    <tr>\n",
       "      <th>166</th>\n",
       "      <td>1.0</td>\n",
       "      <td>1.0</td>\n",
       "      <td>208.0</td>\n",
       "      <td>208.00</td>\n",
       "      <td>1.0</td>\n",
       "      <td>0.0</td>\n",
       "    </tr>\n",
       "    <tr>\n",
       "      <th>167</th>\n",
       "      <td>1.0</td>\n",
       "      <td>1.0</td>\n",
       "      <td>56.0</td>\n",
       "      <td>56.00</td>\n",
       "      <td>1.0</td>\n",
       "      <td>0.0</td>\n",
       "    </tr>\n",
       "    <tr>\n",
       "      <th>212</th>\n",
       "      <td>2.0</td>\n",
       "      <td>1.0</td>\n",
       "      <td>9000.0</td>\n",
       "      <td>9000.00</td>\n",
       "      <td>2.0</td>\n",
       "      <td>0.0</td>\n",
       "    </tr>\n",
       "    <tr>\n",
       "      <th>259</th>\n",
       "      <td>2.0</td>\n",
       "      <td>1.0</td>\n",
       "      <td>7620.0</td>\n",
       "      <td>7620.00</td>\n",
       "      <td>3.0</td>\n",
       "      <td>1.0</td>\n",
       "    </tr>\n",
       "    <tr>\n",
       "      <th>...</th>\n",
       "      <td>...</td>\n",
       "      <td>...</td>\n",
       "      <td>...</td>\n",
       "      <td>...</td>\n",
       "      <td>...</td>\n",
       "      <td>...</td>\n",
       "    </tr>\n",
       "    <tr>\n",
       "      <th>5944</th>\n",
       "      <td>2.0</td>\n",
       "      <td>1.0</td>\n",
       "      <td>5000.0</td>\n",
       "      <td>5000.00</td>\n",
       "      <td>3.0</td>\n",
       "      <td>1.0</td>\n",
       "    </tr>\n",
       "    <tr>\n",
       "      <th>5959</th>\n",
       "      <td>2.0</td>\n",
       "      <td>1.0</td>\n",
       "      <td>20000.0</td>\n",
       "      <td>20000.00</td>\n",
       "      <td>3.0</td>\n",
       "      <td>5.0</td>\n",
       "    </tr>\n",
       "    <tr>\n",
       "      <th>5972</th>\n",
       "      <td>2.0</td>\n",
       "      <td>1.0</td>\n",
       "      <td>130000.0</td>\n",
       "      <td>65000.00</td>\n",
       "      <td>3.0</td>\n",
       "      <td>0.0</td>\n",
       "    </tr>\n",
       "    <tr>\n",
       "      <th>5980</th>\n",
       "      <td>2.0</td>\n",
       "      <td>1.0</td>\n",
       "      <td>17533.0</td>\n",
       "      <td>3533.08</td>\n",
       "      <td>3.0</td>\n",
       "      <td>2.0</td>\n",
       "    </tr>\n",
       "    <tr>\n",
       "      <th>5982</th>\n",
       "      <td>2.0</td>\n",
       "      <td>1.0</td>\n",
       "      <td>7500.0</td>\n",
       "      <td>7500.00</td>\n",
       "      <td>3.0</td>\n",
       "      <td>2.0</td>\n",
       "    </tr>\n",
       "  </tbody>\n",
       "</table>\n",
       "<p>2574 rows × 6 columns</p>\n",
       "</div>"
      ],
      "text/plain": [
       "      Stage  Status  Estimated amount  Amount received  Class ID  \\\n",
       "146     1.0     1.0             650.0           650.00       1.0   \n",
       "166     1.0     1.0             208.0           208.00       1.0   \n",
       "167     1.0     1.0              56.0            56.00       1.0   \n",
       "212     2.0     1.0            9000.0          9000.00       2.0   \n",
       "259     2.0     1.0            7620.0          7620.00       3.0   \n",
       "...     ...     ...               ...              ...       ...   \n",
       "5944    2.0     1.0            5000.0          5000.00       3.0   \n",
       "5959    2.0     1.0           20000.0         20000.00       3.0   \n",
       "5972    2.0     1.0          130000.0         65000.00       3.0   \n",
       "5980    2.0     1.0           17533.0          3533.08       3.0   \n",
       "5982    2.0     1.0            7500.0          7500.00       3.0   \n",
       "\n",
       "      Programme financé  \n",
       "146                 0.0  \n",
       "166                 0.0  \n",
       "167                 0.0  \n",
       "212                 0.0  \n",
       "259                 1.0  \n",
       "...                 ...  \n",
       "5944                1.0  \n",
       "5959                5.0  \n",
       "5972                0.0  \n",
       "5980                2.0  \n",
       "5982                2.0  \n",
       "\n",
       "[2574 rows x 6 columns]"
      ]
     },
     "execution_count": 65,
     "metadata": {},
     "output_type": "execute_result"
    }
   ],
   "source": [
    "Opportunities_float"
   ]
  },
  {
   "cell_type": "code",
   "execution_count": 69,
   "id": "0b90b31d",
   "metadata": {},
   "outputs": [
    {
     "name": "stdout",
     "output_type": "stream",
     "text": [
      "Mean Squared Error: 18250234.679100018\n",
      "R-squared: 0.9861081699349731\n",
      "Coefficients: [-1.10181269e+02  6.40262885e+03  9.83173200e-01  4.29711735e+01\n",
      " -1.66885432e+02]\n",
      "Intercept: -6249.339113244569\n"
     ]
    }
   ],
   "source": [
    "\n",
    "# Load your dataframe or create it\n",
    "# For this example, let's assume you have a dataframe called 'Opportunities' with the necessary columns.\n",
    "# 'Stage', 'Status', 'Estimated amount', 'Class ID', 'Programme financé' are the features.\n",
    "# 'Amount received' is the target variable you want to predict.\n",
    "\n",
    "# Split the data into features (X) and the target variable (y)\n",
    "X = Opportunities_float[['Stage', 'Status', 'Estimated amount', 'Class ID', 'Programme financé']]\n",
    "y = Opportunities_float['Amount received']\n",
    "\n",
    "# Split the data into training and testing sets (e.g., 80% training, 20% testing)\n",
    "X_train, X_test, y_train, y_test = train_test_split(X, y, test_size=0.2, random_state=42)\n",
    "\n",
    "# Create a linear regression model\n",
    "model = LinearRegression()\n",
    "\n",
    "# Fit the model to the training data\n",
    "model.fit(X_train, y_train)\n",
    "\n",
    "# Make predictions on the test data\n",
    "y_pred = model.predict(X_test)\n",
    "\n",
    "# Evaluate the model's performance\n",
    "mse = mean_squared_error(y_test, y_pred)\n",
    "r2 = r2_score(y_test, y_pred)\n",
    "\n",
    "print(\"Mean Squared Error:\", mse)\n",
    "print(\"R-squared:\", r2)\n",
    "\n",
    "# You can also access the model's coefficients and intercept\n",
    "print(\"Coefficients:\", model.coef_)\n",
    "print(\"Intercept:\", model.intercept_)"
   ]
  },
  {
   "cell_type": "code",
   "execution_count": 75,
   "id": "23d705ee",
   "metadata": {},
   "outputs": [
    {
     "name": "stdout",
     "output_type": "stream",
     "text": [
      "Mean Squared Error: 18248303.230559688\n",
      "R-squared: 0.9861096401272952\n",
      "Coefficients: [-102.65776824    0.98318169   45.20924793 -165.55111866]\n",
      "Intercept: 121.65820436512513\n"
     ]
    },
    {
     "data": {
      "image/png": "[encoded data removed]",
      "text/plain": [
       "<Figure size 640x480 with 1 Axes>"
      ]
     },
     "metadata": {},
     "output_type": "display_data"
    }
   ],
   "source": [
    "from sklearn.linear_model import Ridge\n",
    "from sklearn.model_selection import train_test_split\n",
    "from sklearn.metrics import mean_squared_error, r2_score\n",
    "\n",
    "# Load your dataframe or create it\n",
    "# For this example, let's assume you have a dataframe called 'Opportunities' with the necessary columns.\n",
    "# 'Stage', 'Status', 'Estimated amount', 'Class ID', 'Programme financé' are the features.\n",
    "# 'Amount received' is the target variable you want to predict.\n",
    "\n",
    "# Split the data into features (X) and the target variable (y)\n",
    "X = Opportunities_float[['Stage', 'Estimated amount', 'Class ID', 'Programme financé']]\n",
    "y = Opportunities_float['Amount received']\n",
    "\n",
    "# Split the data into training and testing sets (e.g., 80% training, 20% testing)\n",
    "X_train, X_test, y_train, y_test = train_test_split(X, y, test_size=0.2, random_state=42)\n",
    "\n",
    "# Create a Ridge regression model with a regularization parameter alpha\n",
    "alpha = 1.0  # You can adjust the alpha value for stronger or weaker regularization\n",
    "ridge_model = Ridge(alpha=alpha)\n",
    "\n",
    "# Fit the Ridge model to the training data\n",
    "ridge_model.fit(X_train, y_train)\n",
    "\n",
    "# Make predictions on the test data\n",
    "y_pred = ridge_model.predict(X_test)\n",
    "\n",
    "# Evaluate the model's performance\n",
    "mse = mean_squared_error(y_test, y_pred)\n",
    "r2 = r2_score(y_test, y_pred)\n",
    "\n",
    "print(\"Mean Squared Error:\", mse)\n",
    "print(\"R-squared:\", r2)\n",
    "\n",
    "# You can also access the model's coefficients and intercept\n",
    "print(\"Coefficients:\", ridge_model.coef_)\n",
    "print(\"Intercept:\", ridge_model.intercept_)\n",
    "\n",
    "\n",
    "import matplotlib.pyplot as plt\n",
    "\n",
    "plt.scatter(y_test, y_pred)\n",
    "plt.xlabel(\"Actual Values\")\n",
    "plt.ylabel(\"Predicted Values\")\n",
    "plt.title(\"Actual vs. Predicted Values\")\n",
    "plt.show()"
   ]
  },
  {
   "cell_type": "code",
   "execution_count": 77,
   "id": "193c329a",
   "metadata": {},
   "outputs": [
    {
     "data": {
      "image/png": "[encoded data removed]",
      "text/plain": [
       "<Figure size 640x480 with 1 Axes>"
      ]
     },
     "metadata": {},
     "output_type": "display_data"
    }
   ],
   "source": [
    "residuals = y_test - y_pred\n",
    "plt.scatter(y_pred, residuals)\n",
    "plt.xlabel(\"Predicted Values\")\n",
    "plt.ylabel(\"Residuals\")\n",
    "plt.axhline(y=0, color='r', linestyle='-')\n",
    "plt.title(\"Residual Plot\")\n",
    "plt.show()"
   ]
  },
  {
   "cell_type": "code",
   "execution_count": 78,
   "id": "e1814951",
   "metadata": {},
   "outputs": [
    {
     "data": {
      "image/png": "[encoded data removed]",
      "text/plain": [
       "<Figure size 640x480 with 1 Axes>"
      ]
     },
     "metadata": {},
     "output_type": "display_data"
    }
   ],
   "source": [
    "plt.hist(residuals, bins=20)\n",
    "plt.xlabel(\"Residuals\")\n",
    "plt.ylabel(\"Frequency\")\n",
    "plt.title(\"Distribution of Residuals\")\n",
    "plt.show()"
   ]
  },
  {
   "cell_type": "code",
   "execution_count": 79,
   "id": "a3381c5a",
   "metadata": {},
   "outputs": [
    {
     "data": {
      "image/png": "[encoded data removed]",
      "text/plain": [
       "<Figure size 640x480 with 1 Axes>"
      ]
     },
     "metadata": {},
     "output_type": "display_data"
    }
   ],
   "source": [
    "import numpy as np\n",
    "\n",
    "feature_names = X.columns\n",
    "coefficients = ridge_model.coef_\n",
    "plt.barh(feature_names, coefficients)\n",
    "plt.xlabel(\"Coefficient Value\")\n",
    "plt.title(\"Feature Coefficients\")\n",
    "plt.show()"
   ]
  },
  {
   "cell_type": "code",
   "execution_count": 81,
   "id": "8570ce9e",
   "metadata": {},
   "outputs": [
    {
     "name": "stdout",
     "output_type": "stream",
     "text": [
      "Unique values in 'Column1': ['Private partnership - Event' 'Private partnership - Patronage'\n",
      " 'Campus - Room' 'Campus - Field' 'Public partnership' 'Campus - Event'\n",
      " 'Private partnership - Donation in kind'\n",
      " 'Private partnership - Skill sponsorship'\n",
      " 'Private partnership - Apprenticeship tax']\n"
     ]
    }
   ],
   "source": [
    "Opportunitiess = pd.read_excel(\"/Users/hugo/Downloads/Opportunities.xlsx\")\n",
    "\n",
    "unique_progfi = Opportunitiess['Class'].unique()\n",
    "print(\"Unique values in 'Column1':\", unique_progfi)"
   ]
  },
  {
   "cell_type": "code",
   "execution_count": null,
   "id": "6d8aa548",
   "metadata": {},
   "outputs": [],
   "source": []
  }
 ],
 "metadata": {
  "kernelspec": {
   "display_name": "Python 3 (ipykernel)",
   "language": "python",
   "name": "python3"
  },
  "language_info": {
   "codemirror_mode": {
    "name": "ipython",
    "version": 3
   },
   "file_extension": ".py",
   "mimetype": "text/x-python",
   "name": "python",
   "nbconvert_exporter": "python",
   "pygments_lexer": "ipython3",
   "version": "3.10.8"
  }
 },
 "nbformat": 4,
 "nbformat_minor": 5
}
